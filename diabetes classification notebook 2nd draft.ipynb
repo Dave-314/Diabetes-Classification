{
 "cells": [
  {
   "cell_type": "markdown",
   "id": "6a1563df",
   "metadata": {},
   "source": [
    "# Diabetes Classification\n",
    "\n",
    "According to the CDC 415 million people in the world have diabetes. 96 million Americans are pre-diabetic and 8 out of 10 of those are not aware of it.\n",
    "\n",
    "Diabetes is a disease that changes the way the body transforms food into energy. When food is broken down into glucose, the body signals for insulin to be released which allows glucose to enter the cells. However individuals with diabetes do not have enough insulin or cannot use the insulin their body makes. Without medical intervention glucose remains in the blood unable to enter the cells, leading to heart disease, vision loss and kidney disease. There is not currently a cure for diabetes but it is able to be managed through regular glucose monitoring and other lifestyle changes.\n",
    "\n",
    "There are many steps that can be taken to avoid diabetes, one of them includes living a healthy, active lifestyle. A more detailed look at the risk factors for diabetes can be found at https://www.cdc.gov/diabetes/basics/risk-factors.html \n",
    "\n",
    "Accurate classification of a diabetic individual is important because it requires a change of lifestyle and if left untreated will lead to many health complications. The goal of this project is to accurately predict diabetes using machine learning algorithms.\n",
    "\n",
    "Source of information on diabetes:\n",
    "https://www.cdc.gov/diabetes/basics/index.html\n",
    "\n",
    "Description of variables used in this dataset:\n",
    "\n",
    "Pregnancies: Number of times pregnant\n",
    "\n",
    "Glucose: Plasma glucose concentration after 2 hours fasting in an oral glucose tolerance test\n",
    "\n",
    "BloodPressure: Diastolic blood pressure (mm Hg)\n",
    "\n",
    "SkinThickness: Triceps skin fold thickness (mm)\n",
    "\n",
    "Insulin: 2-Hour serum insulin (mu U/ml)\n",
    "\n",
    "BMI: Body mass index (weight in kg/(height in m)^2)\n",
    "\n",
    "DiabetesPedigreeFunction: Diabetes pedigree function\n",
    "\n",
    "Age: Age (years)\n",
    "\n",
    "Outcome: Class variable (0 = non-diabetic, 1 = diabetic)\n",
    "    \n",
    "Dataset obtained from Kaggle (https://www.kaggle.com/datasets/mathchi/diabetes-data-set)\n",
    "which is a subset of a larger dataset from the National Institute of Diabetes and Digestive and Kidney Diseases"
   ]
  },
  {
   "cell_type": "code",
   "execution_count": 1,
   "id": "8699774c",
   "metadata": {},
   "outputs": [
    {
     "name": "stdout",
     "output_type": "stream",
     "text": [
      "old directory is  C:\\Users\\david\n",
      "current directory is C:\\Users\\david\\Desktop\\python_datasets\n"
     ]
    }
   ],
   "source": [
    "import os\n",
    "# view and change current working directory\n",
    "path = os.getcwd()\n",
    "print('old directory is ', path)\n",
    "os.chdir('/Users/david/Desktop/python_datasets')\n",
    "print('current directory is', os.getcwd())"
   ]
  },
  {
   "cell_type": "code",
   "execution_count": 2,
   "id": "4e66aa1e",
   "metadata": {
    "scrolled": false
   },
   "outputs": [
    {
     "name": "stdout",
     "output_type": "stream",
     "text": [
      "   Pregnancies  Glucose  BloodPressure  SkinThickness  Insulin   BMI  \\\n",
      "0            6      148             72             35        0  33.6   \n",
      "1            1       85             66             29        0  26.6   \n",
      "2            8      183             64              0        0  23.3   \n",
      "3            1       89             66             23       94  28.1   \n",
      "4            0      137             40             35      168  43.1   \n",
      "\n",
      "   DiabetesPedigreeFunction  Age  Outcome  \n",
      "0                     0.627   50        1  \n",
      "1                     0.351   31        0  \n",
      "2                     0.672   32        1  \n",
      "3                     0.167   21        0  \n",
      "4                     2.288   33        1  \n",
      "Pregnancies                   int64\n",
      "Glucose                       int64\n",
      "BloodPressure                 int64\n",
      "SkinThickness                 int64\n",
      "Insulin                       int64\n",
      "BMI                         float64\n",
      "DiabetesPedigreeFunction    float64\n",
      "Age                           int64\n",
      "Outcome                       int64\n",
      "dtype: object\n"
     ]
    }
   ],
   "source": [
    "# import packages for data importation and analysis\n",
    "import pandas as pd\n",
    "import numpy as np\n",
    "import matplotlib.pyplot as plt\n",
    "# import dataset\n",
    "diabetes_data = pd.read_csv(\"diabetes_data.csv\")\n",
    "# print first 5 rows of the dataset \n",
    "print(diabetes_data.head())\n",
    "# view what the data types of the variables are\n",
    "print(diabetes_data.dtypes)"
   ]
  },
  {
   "cell_type": "markdown",
   "id": "750ef7a9",
   "metadata": {},
   "source": [
    "By looking at the first 5 rows of each variable, it appears to have read the file properly. The datatype of all variables are numeric (integers and float). Next I will look for any null values within the data."
   ]
  },
  {
   "cell_type": "code",
   "execution_count": 3,
   "id": "b12d3612",
   "metadata": {
    "scrolled": false
   },
   "outputs": [
    {
     "name": "stdout",
     "output_type": "stream",
     "text": [
      "Pregnancies                 0\n",
      "Glucose                     0\n",
      "BloodPressure               0\n",
      "SkinThickness               0\n",
      "Insulin                     0\n",
      "BMI                         0\n",
      "DiabetesPedigreeFunction    0\n",
      "Age                         0\n",
      "Outcome                     0\n",
      "dtype: int64\n"
     ]
    }
   ],
   "source": [
    "# look for null values\n",
    "print(diabetes_data.isnull().sum())"
   ]
  },
  {
   "cell_type": "markdown",
   "id": "5153e55b",
   "metadata": {},
   "source": [
    "This dataset does not have any null values, so we can move forward with exploratory data analysis."
   ]
  },
  {
   "cell_type": "code",
   "execution_count": 4,
   "id": "685f9bab",
   "metadata": {},
   "outputs": [
    {
     "name": "stdout",
     "output_type": "stream",
     "text": [
      "       Pregnancies     Glucose  BloodPressure  SkinThickness     Insulin  \\\n",
      "count   768.000000  768.000000     768.000000     768.000000  768.000000   \n",
      "mean      3.845052  120.894531      69.105469      20.536458   79.799479   \n",
      "std       3.369578   31.972618      19.355807      15.952218  115.244002   \n",
      "min       0.000000    0.000000       0.000000       0.000000    0.000000   \n",
      "25%       1.000000   99.000000      62.000000       0.000000    0.000000   \n",
      "50%       3.000000  117.000000      72.000000      23.000000   30.500000   \n",
      "75%       6.000000  140.250000      80.000000      32.000000  127.250000   \n",
      "max      17.000000  199.000000     122.000000      99.000000  846.000000   \n",
      "\n",
      "              BMI  DiabetesPedigreeFunction         Age     Outcome  \n",
      "count  768.000000                768.000000  768.000000  768.000000  \n",
      "mean    31.992578                  0.471876   33.240885    0.348958  \n",
      "std      7.884160                  0.331329   11.760232    0.476951  \n",
      "min      0.000000                  0.078000   21.000000    0.000000  \n",
      "25%     27.300000                  0.243750   24.000000    0.000000  \n",
      "50%     32.000000                  0.372500   29.000000    0.000000  \n",
      "75%     36.600000                  0.626250   41.000000    1.000000  \n",
      "max     67.100000                  2.420000   81.000000    1.000000  \n"
     ]
    }
   ],
   "source": [
    "# look at descriptive statistics of dataset\n",
    "print(diabetes_data.describe())"
   ]
  },
  {
   "cell_type": "markdown",
   "id": "654255a4",
   "metadata": {},
   "source": [
    "Some notes on glucose from the cdc (source: https://www.cdc.gov/diabetes/basics/getting-tested.html )\n",
    "< 140 normal   140<x<199 is prediabetic and 200+ is diabetic.\n",
    "\n",
    "Insulin and SkinThickness both have a 25th percentile of 0 so it will be worth investigating for data entry errors. \n",
    "\n",
    "BMI has a min of 0 which cannot happen, as the formula for BMI is the weight (in kg) divided by the height (in meters) squared.\n",
    "(source: https://www.cdc.gov/healthyweight/assessing/bmi/adult_bmi/index.html)\n",
    "So unless the weight drops to zero this dataset may have used 0 to notate any missing values. This possibility will be explored by viewing histograms of the variables and looking for inconsistencies in the data. But first lets look both the variance and normalized variances of the variables."
   ]
  },
  {
   "cell_type": "code",
   "execution_count": 5,
   "id": "2b5c41ad",
   "metadata": {},
   "outputs": [
    {
     "name": "stdout",
     "output_type": "stream",
     "text": [
      "Variance \n",
      " Pregnancies                    11.354056\n",
      "Glucose                      1022.248314\n",
      "BloodPressure                 374.647271\n",
      "SkinThickness                 254.473245\n",
      "Insulin                     13281.180078\n",
      "BMI                            62.159984\n",
      "DiabetesPedigreeFunction        0.109779\n",
      "Age                           138.303046\n",
      "Outcome                         0.227483\n",
      "dtype: float64 \n",
      "\n",
      "Normalized variance \n",
      " Pregnancies                 0.767974\n",
      "Glucose                     0.069943\n",
      "BloodPressure               0.078451\n",
      "SkinThickness               0.603380\n",
      "Insulin                     2.085627\n",
      "BMI                         0.060731\n",
      "DiabetesPedigreeFunction    0.493017\n",
      "Age                         0.125166\n",
      "Outcome                     1.868104\n",
      "dtype: float64\n"
     ]
    }
   ],
   "source": [
    "# print variance of the dataset variables\n",
    "print(\"Variance \\n\", diabetes_data.var(), \"\\n\")\n",
    "\n",
    "#print normalized variances\n",
    "diabetes_data_norm = diabetes_data / diabetes_data.mean()\n",
    "print(\"Normalized variance \\n\", diabetes_data_norm.var())"
   ]
  },
  {
   "cell_type": "markdown",
   "id": "26f51666",
   "metadata": {},
   "source": [
    "The insulin has a high variance, may need to transform the variable to increase accuracy of prediction. \n",
    "\n",
    "In the following sections of code, I will plot histograms of the data to look at the distribution of the data."
   ]
  },
  {
   "cell_type": "code",
   "execution_count": 6,
   "id": "5eaeeb1f",
   "metadata": {},
   "outputs": [
    {
     "data": {
      "text/plain": [
       "(array([318., 206., 136.,  58.,  25.,  15.,   3.,   3.,   1.,   3.]),\n",
       " array([0.078 , 0.3122, 0.5464, 0.7806, 1.0148, 1.249 , 1.4832, 1.7174,\n",
       "        1.9516, 2.1858, 2.42  ]),\n",
       " <BarContainer object of 10 artists>)"
      ]
     },
     "execution_count": 6,
     "metadata": {},
     "output_type": "execute_result"
    },
    {
     "data": {
      "image/png": "[encoded data removed]",
      "text/plain": [
       "<Figure size 1080x1080 with 9 Axes>"
      ]
     },
     "metadata": {
      "needs_background": "light"
     },
     "output_type": "display_data"
    }
   ],
   "source": [
    "# There are 9 variables, create a 3x3 subplot to visualize and inspect the distribution of all the data\n",
    "fig, ax = plt.subplots(3,3)\n",
    "fig.set_figheight(15)\n",
    "fig.set_figwidth(15)\n",
    "\n",
    "# create variable that gives a count of each outcome\n",
    "outcome_counts = diabetes_data[\"Outcome\"].value_counts()\n",
    "\n",
    "# outcome\n",
    "ax[0,0].set_title(\"Countplot of diabetic classification\")\n",
    "ax[0,0].bar(outcome_counts.index, outcome_counts.values)\n",
    "ax[0,0].set_xticks([0, 1])\n",
    "ax[0,0].set_xticklabels([\"Non-Diabetic\", \"Diabetic\"])\n",
    "\n",
    "# age\n",
    "ax[0,1].set_title(\"Age\")\n",
    "ax[0,1].hist(diabetes_data.Age)\n",
    "\n",
    "# skin thickness\n",
    "ax[0,2].set_title(\"Skin thickness\")\n",
    "ax[0,2].hist(diabetes_data.SkinThickness)\n",
    "\n",
    "# insulin\n",
    "ax[1,0].set_title(\"Insulin\")\n",
    "ax[1,0].hist(diabetes_data.Insulin)\n",
    "\n",
    "# pregnancies\n",
    "ax[1,1].set_title(\"Number of pregnancies\")\n",
    "ax[1,1].hist(diabetes_data.Pregnancies)\n",
    "\n",
    "# glucose\n",
    "ax[1,2].set_title(\"Glucose\")\n",
    "ax[1,2].hist(diabetes_data.Glucose)\n",
    "\n",
    "# blood pressure\n",
    "ax[2,0].set_title(\"Blood pressure\")\n",
    "ax[2,0].hist(diabetes_data.BloodPressure)\n",
    "\n",
    "# BMI\n",
    "ax[2,1].set_title(\"BMI\")\n",
    "ax[2,1].hist(diabetes_data.BMI)\n",
    "\n",
    "# diabetes pedigree function\n",
    "ax[2,2].set_title(\"Diabetes pedigree function\")\n",
    "ax[2,2].hist(diabetes_data.DiabetesPedigreeFunction)"
   ]
  },
  {
   "cell_type": "markdown",
   "id": "05d9645c",
   "metadata": {},
   "source": [
    "From the subplots above, there are some variables that should be scaled in order for them to more closely resemble normal distribution which will help the accuracy of the machine learning algorithms. Insulin and diabetes pedigree function are right skewed and will be individually transformed and compared to the original distribution to observe the diffrences in the transformations. Age and number of pregnancies are both right skewed, however this is to be expected.\n",
    "\n",
    "There are many variables that have outliers at zero, this could be from the data entry process where zero was input for missing values. This possiblility will be assessed separately with each variable because some variables cannot be zero such as BMI.\n",
    "\n",
    "Some values will need log transformed and contain zero so we will add 1 to the variable to keep the data on the same scale and avoid log(0) = -infinity."
   ]
  },
  {
   "cell_type": "code",
   "execution_count": 7,
   "id": "30020232",
   "metadata": {},
   "outputs": [
    {
     "name": "stdout",
     "output_type": "stream",
     "text": [
      "Variance of insulin: 13281.18\n",
      "Variance of insulin when \"0\" values are removed: 14107.703775461428\n",
      "Variance of log(insulin): 9.49\n",
      "Variance of square root of insulin: 43.49\n"
     ]
    },
    {
     "data": {
      "image/png": "[encoded data removed]",
      "text/plain": [
       "<Figure size 1080x360 with 3 Axes>"
      ]
     },
     "metadata": {
      "needs_background": "light"
     },
     "output_type": "display_data"
    }
   ],
   "source": [
    "# inspect Insulin\n",
    "fig, ax = plt.subplots(1,3)\n",
    "fig.set_figheight(5)\n",
    "fig.set_figwidth(15)\n",
    "\n",
    "# Insulin\n",
    "ax[0].set_title(\"Insulin\")\n",
    "ax[0].hist(diabetes_data.Insulin)\n",
    "\n",
    "# log insulin\n",
    "diabetes_data[\"log_ins\"] = np.log(diabetes_data[\"Insulin\"] + 1)\n",
    "ax[1].set_title(\"Log(Insulin)\")\n",
    "ax[1].hist(diabetes_data[\"log_ins\"])\n",
    "\n",
    "# Sqrt Insulin\n",
    "insulin_sqrt = np.sqrt(diabetes_data['Insulin'])\n",
    "ax[2].set_title(\"sqrt(Insulin)\")\n",
    "ax[2].hist(insulin_sqrt)\n",
    "\n",
    "var_insulin = diabetes_data['Insulin'].var()\n",
    "print('Variance of insulin:', round(var_insulin, 2))\n",
    "\n",
    "insulin_gt0 = diabetes_data['Insulin'][diabetes_data['Insulin'] > 0]\n",
    "var_ins_gt0 = insulin_gt0.var()\n",
    "print('Variance of insulin when \"0\" values are removed:', var_ins_gt0)\n",
    "\n",
    "var_insulin_log = np.log(diabetes_data['Insulin'].var())\n",
    "print('Variance of log(insulin):', round(var_insulin_log, 2))\n",
    "\n",
    "var_insulin_sqrt = insulin_sqrt.var()\n",
    "print('Variance of square root of insulin:', round(var_insulin_sqrt, 2))"
   ]
  },
  {
   "cell_type": "markdown",
   "id": "9f21b44d",
   "metadata": {},
   "source": [
    "There is a lot of missing data for this vavriable, in the log(Insulin) plot the missing values are at '0' and accounts for nearly half of the data in this dataset. This is too much data to be imputed by the mean becuase it would cause a very high peak at the mean. These missing values will be removed.\n",
    "\n",
    "Insulin levels have a large variance in this dataset. This is because type of diabetes can cause a person to make very little insulin, or they could be unable to use the insulin that they make. Thus, it is no suprise that insulin has a large variance.  Using the log transformed insuln results in the lowest variance and a bell shaped curve but has a peak for the lower insulin level. The sqrt tranformation also greatly reduces the variance but also has a peak for lower levels and is right skewed. I will continue with the log transformation of insulin.\n",
    "\n",
    "I also calculated the variance of insulin when the values of zero insulin are removed. This is increased the variance because of the data being right skewed."
   ]
  },
  {
   "cell_type": "code",
   "execution_count": 8,
   "id": "5c0508bd",
   "metadata": {
    "scrolled": false
   },
   "outputs": [
    {
     "data": {
      "text/plain": [
       "(array([ 79., 203., 163., 129., 107.,  43.,  27.,   8.,   5.,   4.]),\n",
       " array([0.2792848 , 0.40691981, 0.53455482, 0.66218984, 0.78982485,\n",
       "        0.91745986, 1.04509487, 1.17272988, 1.3003649 , 1.42799991,\n",
       "        1.55563492]),\n",
       " <BarContainer object of 10 artists>)"
      ]
     },
     "execution_count": 8,
     "metadata": {},
     "output_type": "execute_result"
    },
    {
     "data": {
      "image/png": "[encoded data removed]",
      "text/plain": [
       "<Figure size 1080x360 with 3 Axes>"
      ]
     },
     "metadata": {
      "needs_background": "light"
     },
     "output_type": "display_data"
    }
   ],
   "source": [
    "# inspect diabetes pedigree function\n",
    "fig, ax = plt.subplots(1, 3)\n",
    "fig.set_figheight(5)\n",
    "fig.set_figwidth(15)\n",
    "\n",
    "# dpf\n",
    "ax[0].set_title(\"Diabetes pedigree function\")\n",
    "ax[0].hist(diabetes_data.DiabetesPedigreeFunction)\n",
    "\n",
    "# log dpf\n",
    "diabetes_data['dpf_log'] = np.log(diabetes_data.DiabetesPedigreeFunction)\n",
    "ax[1].set_title(\"log dpf\")\n",
    "ax[1].hist(diabetes_data['dpf_log'])\n",
    "\n",
    "# sqrt dpf\n",
    "dpf_sqrt = np.sqrt(diabetes_data.DiabetesPedigreeFunction)\n",
    "ax[2].set_title(\"sqrt(dpf)\")\n",
    "ax[2].hist(dpf_sqrt)"
   ]
  },
  {
   "cell_type": "markdown",
   "id": "02c5333d",
   "metadata": {},
   "source": [
    "The log transformation of the Diabetes Pedigree Function (dpf) is close to a normal distribution, so it will be used in the analysis moving forward."
   ]
  },
  {
   "cell_type": "code",
   "execution_count": 9,
   "id": "4b821d32",
   "metadata": {},
   "outputs": [
    {
     "data": {
      "text/plain": [
       "(array([ 59., 141., 181., 118.,  36.,   4.,   1.,   0.,   0.,   1.]),\n",
       " array([ 7. , 16.2, 25.4, 34.6, 43.8, 53. , 62.2, 71.4, 80.6, 89.8, 99. ]),\n",
       " <BarContainer object of 10 artists>)"
      ]
     },
     "execution_count": 9,
     "metadata": {},
     "output_type": "execute_result"
    },
    {
     "data": {
      "image/png": "[encoded data removed]",
      "text/plain": [
       "<Figure size 1080x360 with 2 Axes>"
      ]
     },
     "metadata": {
      "needs_background": "light"
     },
     "output_type": "display_data"
    }
   ],
   "source": [
    "# Inspect SkinThickness\n",
    "fig, ax = plt.subplots(1, 2)\n",
    "fig.set_figheight(5)\n",
    "fig.set_figwidth(15)\n",
    "\n",
    "# Skin thickness\n",
    "ax[0].set_title(\"Skin thickness\")\n",
    "ax[0].hist(diabetes_data.SkinThickness)\n",
    "\n",
    "# skin thickness with zeroes removed\n",
    "skin_gt0 = diabetes_data.SkinThickness[diabetes_data.SkinThickness > 0]\n",
    "ax[1].set_title(\"Skin thickness with zero values removed\")\n",
    "ax[1].hist(skin_gt0)"
   ]
  },
  {
   "cell_type": "markdown",
   "id": "dfedc7e1",
   "metadata": {},
   "source": [
    "Removing the zero values from the skin thickness variable gives a histogram that is slightly right skewed with an outlier at 99mm (or 3.8 inches). The tricep skin fold thickness of 0mm is unreasonable, and once removed the minimum skin thickness is 7mm (or approximately 1/4 inch) which is a more reasonable measure. "
   ]
  },
  {
   "cell_type": "code",
   "execution_count": 10,
   "id": "86f66aab",
   "metadata": {},
   "outputs": [
    {
     "data": {
      "text/plain": [
       "(array([ 14.,  49.,  89., 166., 126., 126., 115.,  55.,  21.,   7.]),\n",
       " array([-2.55104645, -2.20756505, -1.86408365, -1.52060225, -1.17712086,\n",
       "        -0.83363946, -0.49015806, -0.14667666,  0.19680474,  0.54028614,\n",
       "         0.88376754]),\n",
       " <BarContainer object of 10 artists>)"
      ]
     },
     "execution_count": 10,
     "metadata": {},
     "output_type": "execute_result"
    },
    {
     "data": {
      "image/png": "[encoded data removed]",
      "text/plain": [
       "<Figure size 1080x1080 with 9 Axes>"
      ]
     },
     "metadata": {
      "needs_background": "light"
     },
     "output_type": "display_data"
    }
   ],
   "source": [
    "# Create a 3x3 subplot to visualize the variables to be used in analysis\n",
    "fig, ax = plt.subplots(3,3)\n",
    "fig.set_figheight(15)\n",
    "fig.set_figwidth(15)\n",
    "\n",
    "# outcome\n",
    "outcome_counts = diabetes_data[\"Outcome\"].value_counts()\n",
    "ax[0,0].set_title(\"Countplot of diabetic classification\")\n",
    "ax[0,0].bar(outcome_counts.index, outcome_counts.values)\n",
    "ax[0,0].set_xticks([0, 1])\n",
    "ax[0,0].set_xticklabels([\"Non-Diabetic\", \"Diabetic\"])\n",
    "# age\n",
    "ax[0,1].set_title(\"Histogram of age distribution\")\n",
    "ax[0,1].hist(diabetes_data.Age)\n",
    "# skin thickness\n",
    "ax[0,2].set_title(\"Skin thickness\")\n",
    "ax[0,2].hist(skin_gt0)\n",
    "# insulin log scale\n",
    "ax[1,0].set_title(\"Log scale Insulin\")\n",
    "ax[1,0].hist(diabetes_data.log_ins)\n",
    "# pregnancies\n",
    "ax[1,1].set_title(\"Number of pregnancies\")\n",
    "ax[1,1].hist(diabetes_data.Pregnancies)\n",
    "# glucose\n",
    "ax[1,2].set_title(\"Glucose\")\n",
    "ax[1,2].hist(diabetes_data.Glucose)\n",
    "# blood pressure\n",
    "bp_sqrt = np.sqrt(diabetes_data.BloodPressure)\n",
    "ax[2,0].set_title(\"Blood pressure\")\n",
    "ax[2,0].hist(bp_sqrt)\n",
    "# BMI\n",
    "ax[2,1].set_title(\"BMI\")\n",
    "ax[2,1].hist(diabetes_data.BMI)\n",
    "# diabtes pedigree function\n",
    "ax[2,2].set_title(\"Log Diabetes Pedigree Function\")\n",
    "ax[2,2].hist(diabetes_data['dpf_log'])"
   ]
  },
  {
   "cell_type": "markdown",
   "id": "620ef1f2",
   "metadata": {},
   "source": [
    "The zero values in skin thickness, insulin, glucose, blood pressure and bmi will be removed because through the dataset is supsected of using '0' as a missing or null value."
   ]
  },
  {
   "cell_type": "code",
   "execution_count": 11,
   "id": "82357086",
   "metadata": {},
   "outputs": [],
   "source": [
    "# used log_insulin != 0 for a filter because 1 was added to the original value, so all the values that had originally\n",
    "# were 0 on the normal scale are 0 in the log scale because log(1) = 0\n",
    "diabetes_data_gt0 = diabetes_data[(diabetes_data[\"SkinThickness\"] != 0) & \n",
    "                                  (diabetes_data[\"log_ins\"] != 0) & \n",
    "                                  (diabetes_data[\"Glucose\"] != 0) & \n",
    "                                  (diabetes_data[\"BloodPressure\"] != 0) & \n",
    "                                  (diabetes_data[\"BMI\"] != 0)]\n",
    "\n",
    "# drop insulin and dpf variable becuase the log transformation was used\n",
    "diabetes_data_gt0 = diabetes_data_gt0.drop(['Insulin', 'DiabetesPedigreeFunction'], axis=1)"
   ]
  },
  {
   "cell_type": "code",
   "execution_count": 12,
   "id": "27d2fe7c",
   "metadata": {},
   "outputs": [],
   "source": [
    "# separate the data into 2 datasets\n",
    "X = diabetes_data_gt0.drop('Outcome', axis=1).values\n",
    "y = diabetes_data_gt0['Outcome'].values\n",
    "\n",
    "# import all necessary modules for prediction\n",
    "from sklearn.model_selection import train_test_split\n",
    "from sklearn.model_selection import RandomizedSearchCV\n",
    "from sklearn.model_selection import GridSearchCV\n",
    "from sklearn.preprocessing import PowerTransformer\n",
    "from sklearn.preprocessing import StandardScaler\n",
    "from sklearn.ensemble import RandomForestClassifier\n",
    "from sklearn.pipeline import Pipeline\n",
    "from sklearn.metrics import accuracy_score\n",
    "from sklearn.metrics import roc_auc_score\n",
    "from sklearn.metrics import confusion_matrix\n",
    "from sklearn.metrics import ConfusionMatrixDisplay\n",
    "from sklearn.metrics import f1_score\n",
    "from sklearn.metrics import precision_score\n",
    "from sklearn.metrics import recall_score\n",
    "from sklearn.decomposition import PCA\n",
    "from sklearn.svm import SVC\n",
    "from sklearn.linear_model import LogisticRegression\n",
    "from interpret.glassbox import ExplainableBoostingClassifier\n",
    "from sklearn.utils import resample\n",
    "from imblearn import under_sampling, over_sampling\n",
    "from imblearn.over_sampling import SMOTE\n",
    "from interpret import show\n",
    "\n",
    "# split data into testing and training sets, keeping 20% of data for the test set\n",
    "X_train, X_test, y_train, y_test = train_test_split(X, y, test_size=0.2, random_state=1)"
   ]
  },
  {
   "cell_type": "markdown",
   "id": "2ab9a0ca",
   "metadata": {},
   "source": [
    "The first method for prediction will be using a pipeline to combine priciple component analysis (PCA), standard scaler and logistic regresion. PCA will choose the minimal number of compnents for the model without sacrificing accuracy. Standard scaler will put all the variables in the same scale because most estimators in machine learning require standardization, or at the very least will work better with standardization. Logistic regression will allow modeling the binary response variable. \n",
    "\n",
    "# Logistic Regression"
   ]
  },
  {
   "cell_type": "code",
   "execution_count": 13,
   "id": "45162626",
   "metadata": {},
   "outputs": [],
   "source": [
    "# write function to calculate scores for model\n",
    "def scores(X_test, y_test, model):\n",
    "    y_pred = model.predict(X_test)\n",
    "    pred_proba = model.predict_proba(X_test)[:,1]\n",
    "    accuracy = accuracy_score(y_test, y_pred)\n",
    "    auc = roc_auc_score(y_test, pred_proba)\n",
    "    f1 = f1_score(y_test, y_pred)\n",
    "    precision = precision_score(y_test, y_pred)\n",
    "    recall = recall_score(y_test, y_pred)\n",
    "    matrix = confusion_matrix(y_test, y_pred)\n",
    "    display = ConfusionMatrixDisplay(matrix)\n",
    "    \n",
    "    print(\"Model Scores \\n\",\n",
    "      \"Best Parameter: \", model.best_params_, \"\\n\",\n",
    "      \"Accuracy: \", accuracy, \"\\n\",\n",
    "      \"F1: \", f1, \"\\n\", \n",
    "      \"Precision: \", precision, \"\\n\",\n",
    "      \"Recall: \", recall, \"\\n\",\n",
    "      \"AUC-ROC: \", auc)\n",
    "    display.plot()\n",
    "    plt.show()"
   ]
  },
  {
   "cell_type": "code",
   "execution_count": 14,
   "id": "59abe2d4",
   "metadata": {},
   "outputs": [
    {
     "name": "stdout",
     "output_type": "stream",
     "text": [
      "Model Scores \n",
      " Best Parameter:  {'pca__n_components': 8, 'logistic__solver': 'liblinear', 'logistic__C': 4.137931034482768} \n",
      " Accuracy:  0.7848101265822784 \n",
      " F1:  0.6666666666666667 \n",
      " Precision:  0.6296296296296297 \n",
      " Recall:  0.7083333333333334 \n",
      " AUC-ROC:  0.8416666666666667\n"
     ]
    },
    {
     "data": {
      "image/png": "[encoded data removed]",
      "text/plain": [
       "<Figure size 432x288 with 2 Axes>"
      ]
     },
     "metadata": {
      "needs_background": "light"
     },
     "output_type": "display_data"
    }
   ],
   "source": [
    "# instantiate\n",
    "pca = PCA(random_state=1)\n",
    "scaler = StandardScaler()\n",
    "logistic = LogisticRegression(max_iter=10000, random_state=1)\n",
    "\n",
    "# build pipeline and grid\n",
    "pipe = Pipeline(steps=[('scaler', scaler), ('pca', pca), ('logistic', logistic)])\n",
    "\n",
    "param_grid = {\n",
    "    \"pca__n_components\": np.linspace(4, 8, 5, dtype=int),\n",
    "    \"logistic__C\": np.linspace(1e-14, 60, 30),\n",
    "    \"logistic__solver\": ['liblinear']\n",
    "}\n",
    "# fit model and print scores\n",
    "logreg1 = RandomizedSearchCV(estimator = pipe, param_distributions = param_grid, n_jobs=-1, random_state=1)\n",
    "logreg1.fit(X_train, y_train)\n",
    "\n",
    "scores(X_test, y_test, logreg1)"
   ]
  },
  {
   "cell_type": "markdown",
   "id": "d29e2f10",
   "metadata": {},
   "source": [
    "A Randomized search cross validation shows the parameters that gave the best results of a large range of hyperparameters. Now I can use a more targeted grid search for a more in depth scan through the hyperparameters in the model chosen above."
   ]
  },
  {
   "cell_type": "code",
   "execution_count": 15,
   "id": "86a2b510",
   "metadata": {},
   "outputs": [
    {
     "name": "stdout",
     "output_type": "stream",
     "text": [
      "Model Scores \n",
      " Best Parameter:  {'logistic__C': 2.66666666666667, 'logistic__solver': 'liblinear', 'pca__n_components': 8} \n",
      " Accuracy:  0.7848101265822784 \n",
      " F1:  0.6666666666666667 \n",
      " Precision:  0.6296296296296297 \n",
      " Recall:  0.7083333333333334 \n",
      " AUC-ROC:  0.8424242424242424\n"
     ]
    },
    {
     "data": {
      "image/png": "[encoded data removed]",
      "text/plain": [
       "<Figure size 432x288 with 2 Axes>"
      ]
     },
     "metadata": {
      "needs_background": "light"
     },
     "output_type": "display_data"
    }
   ],
   "source": [
    "# build parameter grid\n",
    "param_grid = {\n",
    "    \"pca__n_components\": [8],\n",
    "    \"logistic__C\": np.linspace(1e-14, 4, 10),\n",
    "    \"logistic__solver\": ['liblinear']\n",
    "}\n",
    "# fit model and print scores\n",
    "logreg2 = GridSearchCV(pipe, param_grid, n_jobs=2)\n",
    "logreg2.fit(X_train, y_train)\n",
    "\n",
    "scores(X_test, y_test, logreg2)"
   ]
  },
  {
   "cell_type": "markdown",
   "id": "a417a7fb",
   "metadata": {},
   "source": [
    "The accuracy of the chosen model through the gridsearch stayed the same, without much improvement on the AUC-ROC score which is now at about 84%. The confusion matrix shows 17 incorrecty predicted and 62 that were correctly predicted.\n",
    "\n",
    "Some other metrics used in this analysis are precision, recall and the f1-score. The precision score penalizes when there are false positives, recall penalizes false negatives and the f1-score is a weighted average of recall and precision. These are important to calculate because a false negative can have much different implications that a false positive. In the case of this dataset a false negative means that the diabetic persion is left untreated while a false positive means that they undergo more tests, monitoring and possibly recieve medication. While both false predictions are certainly undesirable, this project will focus on recall because undetected diabetes poses more of a danger because they will most likey have less monitoring to correct the mis-diagnosis. \n",
    "\n",
    "The the f1 score above is about 67% and the recall is 71%. More models will be fit in an attempt to increase these scores. \n",
    "\n",
    "\n",
    "# Upsampling\n",
    "\n",
    "Sampling techniques can help improve prediction accuracy. Upsampling  is used for unbalanced data that has few datapoints for one of the outcomes, such as being diabetic. The upsampled dataset will have equal observations for each outcome."
   ]
  },
  {
   "cell_type": "code",
   "execution_count": 16,
   "id": "d8b2bead",
   "metadata": {},
   "outputs": [],
   "source": [
    "# instantiate SMOTE()\n",
    "smote = SMOTE(random_state=1)\n",
    "# the train is used to be upsampled\n",
    "X_train_upsampled, y_train_upsampled = smote.fit_resample(X_train, y_train)"
   ]
  },
  {
   "cell_type": "code",
   "execution_count": 17,
   "id": "4f93c61b",
   "metadata": {},
   "outputs": [
    {
     "name": "stdout",
     "output_type": "stream",
     "text": [
      "Model Scores \n",
      " Best Parameter:  {'pca__n_components': 7, 'logistic__solver': 'liblinear', 'logistic__penalty': 'l2', 'logistic__C': 2.782559402207126} \n",
      " Accuracy:  0.7468354430379747 \n",
      " F1:  0.6428571428571429 \n",
      " Precision:  0.5625 \n",
      " Recall:  0.75 \n",
      " AUC-ROC:  0.8583333333333334\n"
     ]
    },
    {
     "data": {
      "image/png": "[encoded data removed]",
      "text/plain": [
       "<Figure size 432x288 with 2 Axes>"
      ]
     },
     "metadata": {
      "needs_background": "light"
     },
     "output_type": "display_data"
    }
   ],
   "source": [
    "# the pipeline has been defined in the last gridsearch and will be re-used with the upsampled data\n",
    "# define pparameters to be searched\n",
    "param_grid = {\n",
    "    \"pca__n_components\": np.linspace(1, 8, 8, dtype=int),\n",
    "    \"logistic__C\": np.logspace(-4, 4, 10),\n",
    "    \"logistic__solver\": ['liblinear'],\n",
    "    \"logistic__penalty\": ['l1', 'l2']\n",
    "}\n",
    "upsample1 = RandomizedSearchCV(estimator = pipe, \n",
    "                               param_distributions = param_grid, \n",
    "                               n_jobs=2,\n",
    "                               n_iter = 20,\n",
    "                               random_state=1)\n",
    "upsample1.fit(X_train_upsampled, y_train_upsampled)\n",
    "\n",
    "scores(X_test, y_test, upsample1)"
   ]
  },
  {
   "cell_type": "code",
   "execution_count": 18,
   "id": "6e8a64be",
   "metadata": {},
   "outputs": [
    {
     "name": "stdout",
     "output_type": "stream",
     "text": [
      "Model Scores \n",
      " Best Parameter:  {'logistic__C': 2.5, 'logistic__penalty': 'l2', 'logistic__solver': 'liblinear', 'pca__n_components': 7} \n",
      " Accuracy:  0.7468354430379747 \n",
      " F1:  0.6428571428571429 \n",
      " Precision:  0.5625 \n",
      " Recall:  0.75 \n",
      " AUC-ROC:  0.8583333333333334\n"
     ]
    },
    {
     "data": {
      "image/png": "[encoded data removed]",
      "text/plain": [
       "<Figure size 432x288 with 2 Axes>"
      ]
     },
     "metadata": {
      "needs_background": "light"
     },
     "output_type": "display_data"
    }
   ],
   "source": [
    "param_grid = {\n",
    "    \"pca__n_components\": [7],\n",
    "    \"logistic__C\": np.linspace(2.5, 2.7, 10),\n",
    "    \"logistic__solver\": ['liblinear'],\n",
    "    \"logistic__penalty\": ['l2']\n",
    "}\n",
    "upsample2 = GridSearchCV(pipe, param_grid, n_jobs=-1)\n",
    "upsample2.fit(X_train_upsampled, y_train_upsampled)\n",
    "\n",
    "scores(X_test, y_test, upsample2)"
   ]
  },
  {
   "cell_type": "markdown",
   "id": "5b16f8b8",
   "metadata": {},
   "source": [
    "The Accuracy score of the logistic regression model was better than this upsampling model, however the recall is 75% and the precision id 56%. Another model will be fit to try and increase the precision without sacrificing recall.\n",
    "\n",
    "# Explainable Boosting\n",
    "\n",
    "An Explainable Boosting Machine will now be applied to the data. This is a generalized additive model that is able to automatically detect for interaction between variables and provide an easily interpretable output. This model will be fit using the upsampled dataset."
   ]
  },
  {
   "cell_type": "code",
   "execution_count": 19,
   "id": "52a87470",
   "metadata": {},
   "outputs": [
    {
     "name": "stdout",
     "output_type": "stream",
     "text": [
      "Model Scores \n",
      " Accuracy:  0.7721518987341772 \n",
      " F1:  0.6896551724137931 \n",
      " Precision:  0.5882352941176471 \n",
      " Recall:  0.8333333333333334 \n",
      " AUC-ROC:  0.831060606060606\n"
     ]
    },
    {
     "data": {
      "image/png": "[encoded data removed]",
      "text/plain": [
       "<Figure size 432x288 with 2 Axes>"
      ]
     },
     "metadata": {
      "needs_background": "light"
     },
     "output_type": "display_data"
    }
   ],
   "source": [
    "# create variables in order to keep labels for explainable AI\n",
    "x_label = [\"Pregnancies\", \"Glucose\", \"BloodPressure\", \"SkinThickness\", \"BMI\", \"Age\", \"log_ins\", \"dpf_log\"]\n",
    "y_label = [\"Outcome\"]\n",
    "# separate the dataset \n",
    "X = diabetes_data_gt0[x_label]\n",
    "y = diabetes_data_gt0[y_label]\n",
    "\n",
    "# split data into testing and training sets, keeping 20% of data for the test set\n",
    "X_train, X_test, y_train, y_test = train_test_split(X, y, test_size=0.2, random_state=1)\n",
    "\n",
    "\n",
    "ebm = ExplainableBoostingClassifier(random_state=1,\n",
    "                                    early_stopping_rounds = 500,\n",
    "                                    max_leaves=5, \n",
    "                                    interactions=10,\n",
    "                                    inner_bags=0,\n",
    "                                    binning='quantile_humanized')\n",
    "ebm.fit(X_train_upsampled, y_train_upsampled)\n",
    "\n",
    "# write new function for scores that works without best_params\n",
    "def final_scores(X_test, y_test, model):\n",
    "    y_pred = model.predict(X_test)\n",
    "    pred_proba = model.predict_proba(X_test)[:,1]\n",
    "    accuracy = accuracy_score(y_test, y_pred)\n",
    "    auc = roc_auc_score(y_test, pred_proba)\n",
    "    f1 = f1_score(y_test, y_pred)\n",
    "    precision = precision_score(y_test, y_pred)\n",
    "    recall = recall_score(y_test, y_pred)\n",
    "    matrix = confusion_matrix(y_test, y_pred)\n",
    "    display = ConfusionMatrixDisplay(matrix)\n",
    "    \n",
    "    print(\"Model Scores \\n\",\n",
    "      \"Accuracy: \", accuracy, \"\\n\",\n",
    "      \"F1: \", f1, \"\\n\", \n",
    "      \"Precision: \", precision, \"\\n\",\n",
    "      \"Recall: \", recall, \"\\n\",\n",
    "      \"AUC-ROC: \", auc)\n",
    "    display.plot()\n",
    "    plt.show()\n",
    "final_scores(X_test, y_test, ebm)"
   ]
  },
  {
   "cell_type": "code",
   "execution_count": 20,
   "id": "b9c13cc8",
   "metadata": {},
   "outputs": [
    {
     "name": "stderr",
     "output_type": "stream",
     "text": [
      "C:\\Users\\david\\anaconda3\\lib\\site-packages\\interpret\\visual\\udash.py:5: UserWarning: \n",
      "The dash_html_components package is deprecated. Please replace\n",
      "`import dash_html_components as html` with `from dash import html`\n",
      "  import dash_html_components as html\n",
      "C:\\Users\\david\\anaconda3\\lib\\site-packages\\interpret\\visual\\udash.py:6: UserWarning: \n",
      "The dash_core_components package is deprecated. Please replace\n",
      "`import dash_core_components as dcc` with `from dash import dcc`\n",
      "  import dash_core_components as dcc\n",
      "C:\\Users\\david\\anaconda3\\lib\\site-packages\\interpret\\visual\\udash.py:7: UserWarning: \n",
      "The dash_table package is deprecated. Please replace\n",
      "`import dash_table` with `from dash import dash_table`\n",
      "\n",
      "Also, if you're using any of the table format helpers (e.g. Group), replace \n",
      "`from dash_table.Format import Group` with \n",
      "`from dash.dash_table.Format import Group`\n",
      "  import dash_table as dt\n"
     ]
    },
    {
     "data": {
      "text/html": [
       "<!-- http://127.0.0.1:7001/1771814233184/ -->\n",
       "<iframe src=\"http://127.0.0.1:7001/1771814233184/\" width=100% height=800 frameBorder=\"0\"></iframe>"
      ]
     },
     "metadata": {},
     "output_type": "display_data"
    }
   ],
   "source": [
    "ebm_global = ebm.explain_global()\n",
    "show(ebm_global) "
   ]
  },
  {
   "cell_type": "markdown",
   "id": "8baa7af4",
   "metadata": {},
   "source": [
    "The explainable boosting model (EBM) has an overall accuracy of 77% and a recall score of 83%. This will be the chosen model for diabetes classification becuase the focus was put on finding a model with high recall.\n",
    "\n",
    "# Explainable Booting with Upsampling\n",
    "Now a model will be fit that combines upsampling, a pipeline and explainable boosting. "
   ]
  },
  {
   "cell_type": "code",
   "execution_count": 22,
   "id": "20db63b5",
   "metadata": {},
   "outputs": [
    {
     "name": "stdout",
     "output_type": "stream",
     "text": [
      "Model Scores \n",
      " Best Parameter:  {'ebm__interactions': 11, 'ebm__inner_bags': 5} \n",
      " Accuracy:  0.810126582278481 \n",
      " F1:  0.6666666666666666 \n",
      " Precision:  0.7142857142857143 \n",
      " Recall:  0.625 \n",
      " AUC-ROC:  0.8393939393939395\n"
     ]
    },
    {
     "data": {
      "image/png": "[encoded data removed]",
      "text/plain": [
       "<Figure size 432x288 with 2 Axes>"
      ]
     },
     "metadata": {
      "needs_background": "light"
     },
     "output_type": "display_data"
    }
   ],
   "source": [
    "# create variables in order to keep labels for explainable AI\n",
    "x_label = [\"Pregnancies\", \"Glucose\", \"BloodPressure\", \"SkinThickness\", \"BMI\", \"Age\", \"log_ins\", \"dpf_log\"]\n",
    "y_label = [\"Outcome\"]\n",
    "# separate the dataset \n",
    "X = diabetes_data_gt0[x_label]\n",
    "y = diabetes_data_gt0[y_label]\n",
    "\n",
    "# split data into testing and training sets, keeping 20% of data for the test set\n",
    "X_train, X_test, y_train, y_test = train_test_split(X, y, test_size=0.2, random_state=1)\n",
    "\n",
    "smote = SMOTE()\n",
    "\n",
    "X_train_upsampled, y_train_upsampled = smote.fit_resample(X_train, y_train)\n",
    "\n",
    "pca = PCA(n_components=8, random_state=1)\n",
    "scaler = StandardScaler()\n",
    "ebm = ExplainableBoostingClassifier(random_state=1,\n",
    "                                    max_leaves = 5,\n",
    "                                    binning = 'quantile_humanized',\n",
    "                                    early_stopping_rounds = 500)\n",
    "\n",
    "pipe = Pipeline(steps=[('scaler', scaler), ('pca', pca), ('ebm', ebm)])\n",
    "param_grid = {\n",
    "    \"ebm__inner_bags\": [0, 5],\n",
    "    \"ebm__interactions\": [10, 11, 12]\n",
    "}\n",
    "ebm1 = RandomizedSearchCV(estimator = pipe, \n",
    "                               param_distributions = param_grid,\n",
    "                               return_train_score = True,\n",
    "                               n_iter = 3,\n",
    "                               n_jobs = -1, \n",
    "                               error_score = 'raise',\n",
    "                               random_state = 1)\n",
    "ebm1.fit(X_train, y_train)\n",
    "\n",
    "scores(X_test, y_test, ebm1)"
   ]
  },
  {
   "cell_type": "markdown",
   "id": "63cf6ee5",
   "metadata": {},
   "source": [
    "While this model provides the best accuracy (81%), recall is only about 63% and the precision is 71%. This project focuses on recall, thus in this model a 12% gain in precision is not worth a 20% loss of recall. The f1 scores from the explainable boosting model and the explainable boosting pipeline model differ by about 2% so they are somwhat similar. If the goal was overall accuracy or precision this would have been the chosen model.\n",
    "\n",
    "In choosing the explainable boosting model with lower accuracy but higher recall. There will be more false positive, more people coming in for follow-up appointments but fewer individuals being left untreated for diabetes."
   ]
  }
 ],
 "metadata": {
  "kernelspec": {
   "display_name": "Python 3 (ipykernel)",
   "language": "python",
   "name": "python3"
  },
  "language_info": {
   "codemirror_mode": {
    "name": "ipython",
    "version": 3
   },
   "file_extension": ".py",
   "mimetype": "text/x-python",
   "name": "python",
   "nbconvert_exporter": "python",
   "pygments_lexer": "ipython3",
   "version": "3.9.7"
  }
 },
 "nbformat": 4,
 "nbformat_minor": 5
}
